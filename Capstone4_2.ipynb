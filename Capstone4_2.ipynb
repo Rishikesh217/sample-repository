{
 "cells": [
  {
   "cell_type": "markdown",
   "metadata": {},
   "source": [
    "# Battle of Neighborhoods"
   ]
  },
  {
   "cell_type": "markdown",
   "metadata": {},
   "source": [
    "# Week 4 --- Part 1"
   ]
  },
  {
   "cell_type": "markdown",
   "metadata": {},
   "source": [
    "## Title  :New York City Hotels Analysis for Investors  "
   ]
  },
  {
   "cell_type": "markdown",
   "metadata": {},
   "source": [
    "## 1. Introduction\n",
    "\n",
    "### 1.1 Background\n",
    "<p>  New York City received a ninth consecutive annual record of approximately 65.2 million tourists in 2018, counting not just overnight visitors but anyone visiting for the day from over 50 miles away, including commuters. Overall the city welcomed 37.9 million visitors who stayed overnight in 2018, of which 13.6 million were international. Major destinations include the Empire State Building, Ellis Island, the Statue of Liberty on Liberty Island, Broadway theatre productions, Central Park, Times Square, Coney Island, the Financial District, museums, and sports stadiums. Other major visitor activities include luxury shopping along Fifth and Madison Avenues; entertainment events such as the Tribeca Film Festival; Randalls Island music festivals such as Governors Ball, Panorama and Electric Zoo; and free performances in Central Park at Summerstage and Delacorte Theater. Many New York City ethnic enclaves, such as Jackson Heights, Flushing, and Brighton Beach are major shopping destinations for first and second generation Americans .</p>\n",
    " \n",
    "<p> With this exquisite growth in tourists , New York city must surely have a great chain of hotels , lodges to be ready to accomodate this tremendous income.People are acknowledging this uptick in the economy by tourism and are thinking of investing in these hotel chains to be more rich. </p> "
   ]
  },
  {
   "cell_type": "markdown",
   "metadata": {},
   "source": [
    "### 1.2 Business Problem\n",
    "\n",
    "<p>Hotel accomodation is a booming industry with the latest rise in tourism worldwide, especially in America. Over 20% of the total tourists worldwide are aged between 19-25. And around 80% of them prefer to spend less on accomodation by opting for  best hotels. This means the demand for hotels is only going to grow further and more people would want to get their legs in the game.</p>\n",
    "\n",
    "<ul>How should a new business person decide where to open a hostel?\n",
    "<ul>What factors should he look at before investing?\n",
    "<ul>Which neighborhood venues affect a user's rating for location of hostel?\n",
    "\n",
    "\n",
    "<p> At the same time, it is difficult for a travellers, especially first-timers, to select a hostel from among many options. Hostel reviews are subjective and differ from person-to-person and one cannot solely depend on them to make a decision. It is especially important to consider other aspects like price and neighborhood, which can greatly influence one's experience of the city/country. I will try to answer the following questions\n",
    "\n",
    "</p>\n",
    "  \n",
    " <p>How does price vary with location?\n",
    "<p>Where are most of the hotels located ?\n",
    "<p>Where are least of the hotels located ?\n",
    "<p>Which is the most costly locality?\n",
    "<p>How does different ammenities affect the charge of hotel?\n",
    "<p>Which amenities are more common near hotels?\n",
    "    \n",
    " <p> This recommendation system should help in answering these questions and give some suitable locations</p>\n",
    "    \n",
    "   "
   ]
  },
  {
   "cell_type": "markdown",
   "metadata": {},
   "source": [
    "### 1.3 Target Audience\n",
    "\n",
    "<p>This project will serve two groups of audience:\n",
    "\n",
    "Travellers: Help them make an informed decision while choosing a hostel by providing an in-depth analysis of hotels and their neighborhood.\n",
    "Business Person: Provide useful information and models which can help them where to open their first/next hotel.\n",
    "</p>"
   ]
  },
  {
   "cell_type": "markdown",
   "metadata": {},
   "source": [
    "# Week 4 ----Part 2\n",
    "\n",
    "## 2. Analytic Approach\n",
    "\n",
    "<p> will be taking two approaches in the project.\n",
    "\n",
    "Firstly, I will use exploratory data analysis(EDA) to uncover hidden properties of data and provide useful insights to the reader, both future traveller and investor.\n",
    "\n",
    "Secondly, I will use prescriptive analytics to help a business person decide a location for new hotel. I will use clustering (KMeans)\n",
    "\n",
    "</p>"
   ]
  },
  {
   "cell_type": "markdown",
   "metadata": {},
   "source": [
    "## Data Requirements\n",
    "\n",
    "<p>The city that will be analysed in this project is New York.\n",
    "\n",
    "Following are the datasets used in the project along with the reasons for choosing them. I have provided the following links:</p>\n",
    "\n",
    "<p><a href = \"https://www.kaggle.com/dgomonov/new-york-city-airbnb-open-data\">New York Hostel Dataset</a>:Since 2008, guests and hosts have used Airbnb to expand on traveling possibilities and present more unique, personalized way of experiencing the world. This dataset describes the listing activity and metrics in NYC, NY for 2019.</p>\n",
    "The original dataset on Kaggle has the following columns:\n",
    "Features extracted are :\n",
    "* means included in actual dataset\n",
    "\n",
    "<p>*id -Hotel id\n",
    "<p>*name- Hotel name \n",
    "<p> host_id – Host id\n",
    "<p> host_name – Host name\n",
    "<p>*neighbourhood_group – Neighborhood group\n",
    "<p>*neighbourhood – Neighborhood name\n",
    "<p>*latitude -- Latitude\n",
    "<p>*longitude -- Longitude\n",
    " <p>room_type – Type of Room\n",
    "<p>*price – Price per Night\n",
    "<p> minimum_nights – Minimum nights offered \n",
    " <p>number_of_reviews – Number of reviews \n",
    " <p>last_review – Date of Last review\n",
    " <p>reviews_per_month – Number of reviews per month\n",
    " <p>calculated_host_listings_count – Host lising\n",
    " <p>availability_365 -- availabilty\n",
    "\n",
    "\n",
    "<p><a href =\"https://foursquare.com\"> Foursquare API</a>: This API will help me get the venues around the hotel which I will use for EDA and clustering.</p>\n",
    "\n",
    "<p><a href =\"https://www1.nyc.gov/site/finance/taxes/property-rolling-sales-data.page\">New York Land Price</a>: I will scrape this website to get land prices of various neighborhoods in NYC.</p>\n",
    "I have downloaded following excel files:\n",
    "<p>rollindsales_bronx.xls\n",
    "<p>rollindsales_brooklyn.xls\n",
    "<p>rollindsales_statenisland.xls\n",
    "<p>rollindsales_queens.xls\n",
    "<p>rollindsales_manhattan.xls\n",
    "\n",
    "\n",
    "\n",
    "<p>\n",
    "Since there is a quota limit on Foursquare, I'll be downloading the data and storing it locally as csv for future use. So we do not have to pull same data again when we restart the data.\n",
    "\n",
    "I have also downloaded the excel files from rolling sales website for the land prices in New York namely\n",
    "\n",
    "Firstly, I will use the list of hostels from Hotel dataset and use Foursquare API to get venues around the Hostel. I will then use EDA to explore the neighborhood and how it affects the price of the hostel. I will also use the combined dataset to cluster similar hostels as per pricing and neighborhood.\n",
    "\n",
    "Second, I will combine the above data with the land price for the area in which the Hotel is situated and them develop clustering and regression models to predict where a new hotel should be opened and how much should it be priced at.\n",
    "\n",
    "</p>"
   ]
  },
  {
   "cell_type": "code",
   "execution_count": null,
   "metadata": {},
   "outputs": [],
   "source": []
  }
 ],
 "metadata": {
  "kernelspec": {
   "display_name": "Python 3",
   "language": "python",
   "name": "python3"
  },
  "language_info": {
   "codemirror_mode": {
    "name": "ipython",
    "version": 3
   },
   "file_extension": ".py",
   "mimetype": "text/x-python",
   "name": "python",
   "nbconvert_exporter": "python",
   "pygments_lexer": "ipython3",
   "version": "3.7.4"
  }
 },
 "nbformat": 4,
 "nbformat_minor": 2
}
