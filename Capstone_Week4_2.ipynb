{
 "cells": [
  {
   "cell_type": "markdown",
   "metadata": {},
   "source": [
    "# Battle of Neighborhoods"
   ]
  },
  {
   "cell_type": "markdown",
   "metadata": {},
   "source": [
    "# Coaching class loaction Estimation in Pune city"
   ]
  },
  {
   "cell_type": "markdown",
   "metadata": {},
   "source": [
    "# Week 4 ---Part 2\n"
   ]
  },
  {
   "cell_type": "markdown",
   "metadata": {},
   "source": [
    "## Data Requirements\n",
    "\n",
    "<p> To solve this problem , we are going to need :</p>\n",
    "<ol> List of all Neighborhoods in Pune . </ol>\n",
    "<ol> Coordinates of all Neighborhoods in Pune . This is requires to plot the locations on a map </ol>\n",
    "<ol> Venues  of all Neighborhoods in Pune especially related to coaching classes . </ol>\n"
   ]
  },
  {
   "cell_type": "markdown",
   "metadata": {},
   "source": [
    "## Sources of Data and Extraction"
   ]
  },
  {
   "cell_type": "markdown",
   "metadata": {},
   "source": [
    "<p> This Wikipedia page (https://en.wikipedia.org/wiki/Category:Neighbourhoods_in_Pune) contains a list of neighbourhoods in Pune, with a total of 58 neighbourhoods. We will use web scraping techniques to extract the data from the Wikipedia page, with the help of Python requests and beautifulsoup packages. Then we will get the geographical coordinates of the neighbourhoods using Python Geocoder package which will give us the latitude and longitude coordinates of the neighbourhoods. </p>\n",
    "\n",
    "<p> After that, we will use Foursquare API to get the venue data for those neighbourhoods. Foursquare After that, we will use Foursquare API to get the venue data for those neighbourhoods. Foursquare Foursquare API will provide many categories of the venue data, we are particularly interested in the Coaching classes category in order to help us to solve the business problem put forward. This is a project that will make use of many data science skills, from web scraping (Wikipedia), working with API (Foursquare), data cleaning, data wrangling, to machine learning (K-means clustering) and map discuss the steps taken in this project, the data analysis that we did and the machine learning technique that was used.</p>"
   ]
  },
  {
   "cell_type": "code",
   "execution_count": null,
   "metadata": {},
   "outputs": [],
   "source": []
  }
 ],
 "metadata": {
  "kernelspec": {
   "display_name": "Python 3",
   "language": "python",
   "name": "python3"
  },
  "language_info": {
   "codemirror_mode": {
    "name": "ipython",
    "version": 3
   },
   "file_extension": ".py",
   "mimetype": "text/x-python",
   "name": "python",
   "nbconvert_exporter": "python",
   "pygments_lexer": "ipython3",
   "version": "3.7.4"
  }
 },
 "nbformat": 4,
 "nbformat_minor": 2
}
