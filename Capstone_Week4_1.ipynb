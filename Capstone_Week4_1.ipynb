{
 "cells": [
  {
   "cell_type": "markdown",
   "metadata": {},
   "source": [
    "# Battle of Neighborhoods"
   ]
  },
  {
   "cell_type": "markdown",
   "metadata": {},
   "source": [
    "# Week 4 --- Part 1"
   ]
  },
  {
   "cell_type": "markdown",
   "metadata": {},
   "source": [
    "## Title  : Coaching classes location Estimation in Pune city."
   ]
  },
  {
   "cell_type": "markdown",
   "metadata": {},
   "source": [
    "### Problem Statement\n",
    "\n",
    "<p> Pune is the second largest city in the Indian state of Maharashtra, after Mumbai. It is the ninth most populous city in the country with an estimated population of 6.4 million.According to the 2011 census, the urban area has a combined population of 5.05 million while the population of the metropolitan region is estimated at 7.27 million. </p>\n",
    "\n",
    "<p> Pune is becoming the most prominent educational hub in India .This city has seen a boom of coaching classes since the dawn of all the competitive exams and board exams.The location of the classes is of prime importance since , students will pick those coaching classes which is close to them or has basic amenities as food courts ,colleges,stationaries,transportation services close to them.The most convenient place wins.</p> "
   ]
  },
  {
   "cell_type": "markdown",
   "metadata": {},
   "source": [
    "### Business Problem\n",
    "\n",
    "<p>A student in search of coaching classes will search for classes close to him, with some convenient facilities such as food courts,transportation servies like bus stops or even some cool places to hang out after his coaching</p>\n",
    "\n",
    "<p> A person who wants to start his/her coaching classes , be it for schools , or for competitive exams, should be careful while investing in a place. He must study the locations based on the population, and the surrounding of that regions. The questions he/she should ask are</p>\n",
    "  <ul>  1. How dense is this area in terms of population ?\n",
    "    2. Is this location student friendly ?\n",
    "    3. What more amenities would interest a student of a particular age?</ul>\n",
    "    \n",
    " <p> This recommendation system should help in answering these questions and give some suitable locations</p>\n",
    "    \n",
    "   "
   ]
  },
  {
   "cell_type": "markdown",
   "metadata": {},
   "source": [
    "### Target Audience\n",
    "\n",
    "<p>Target audience for this statement can be a student willing to find a coaching class suitable to his liking , or an institue of coaching willing to open its branches in the city, in such a way that, they would attract more students.</p>"
   ]
  },
  {
   "cell_type": "code",
   "execution_count": null,
   "metadata": {},
   "outputs": [],
   "source": []
  }
 ],
 "metadata": {
  "kernelspec": {
   "display_name": "Python 3",
   "language": "python",
   "name": "python3"
  },
  "language_info": {
   "codemirror_mode": {
    "name": "ipython",
    "version": 3
   },
   "file_extension": ".py",
   "mimetype": "text/x-python",
   "name": "python",
   "nbconvert_exporter": "python",
   "pygments_lexer": "ipython3",
   "version": "3.7.4"
  }
 },
 "nbformat": 4,
 "nbformat_minor": 2
}
